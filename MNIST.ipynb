{
  "nbformat": 4,
  "nbformat_minor": 0,
  "metadata": {
    "colab": {
      "name": "Copy of HenryX-MNIST-ipynb",
      "provenance": [],
      "collapsed_sections": []
    },
    "kernelspec": {
      "name": "python3",
      "display_name": "Python 3"
    },
    "language_info": {
      "name": "python"
    }
  },
  "cells": [
    {
      "cell_type": "code",
      "metadata": {
        "colab": {
          "base_uri": "https://localhost:8080/",
          "height": 336
        },
        "id": "Y38S_ZBbIusa",
        "outputId": "c882247a-6b72-48a1-fd74-e276b9068969"
      },
      "source": [
        "import numpy as np\n",
        "import tensorflow as tf\n",
        "from tensorflow import keras\n",
        "from tensorflow.keras.optimizers import Adam\n",
        "from keras.datasets import mnist\n",
        "\n",
        "(train_images, train_labels), (test_images, test_labels)= mnist.load_data()\n",
        "print(train_images.shape)\n",
        "print(test_images.shape)\n",
        "\n",
        "import matplotlib.pyplot as plt\n",
        "\n",
        "image_index=1\n",
        "print(\"Label:\", train_labels[image_index])\n",
        "plt.imshow(train_images[image_index], cmap='Greys')\n",
        "plt.show()\n",
        "\n",
        "print(type(train_images))"
      ],
      "execution_count": 17,
      "outputs": [
        {
          "output_type": "stream",
          "name": "stdout",
          "text": [
            "(60000, 28, 28)\n",
            "(10000, 28, 28)\n",
            "Label: 0\n"
          ]
        },
        {
          "output_type": "display_data",
          "data": {
            "text/plain": [
              "<Figure size 432x288 with 1 Axes>"
            ],
            "image/png": "[encoded data removed]"
          },
          "metadata": {
            "needs_background": "light"
          }
        },
        {
          "output_type": "stream",
          "name": "stdout",
          "text": [
            "<class 'numpy.ndarray'>\n"
          ]
        }
      ]
    },
    {
      "cell_type": "code",
      "metadata": {
        "colab": {
          "base_uri": "https://localhost:8080/"
        },
        "id": "I3K8jkx7WPs6",
        "outputId": "c7726ecc-3063-4f7c-edeb-ecdea4f0617a"
      },
      "source": [
        "from keras import models\n",
        "from keras import layers\n",
        "import keras.utils\n",
        "from tensorflow.keras import utils as np_utils\n",
        "from keras.utils.np_utils import to_categorical\n",
        "\n",
        "reg=keras.regularizers.L1(0.001)\n",
        "network=models.Sequential()\n",
        "network.add(layers.Dense(784, activation='gelu', input_shape=(28*28,)))\n",
        "network.add (layers.Dense (200, activation='gelu'))\n",
        "network.add(layers.Dense(10, activation='softmax'))\n",
        "\n",
        "#data reshaping\n",
        "train_images=train_images.reshape((60000, 28*28))\n",
        "train_images=train_images.astype('float32')/255\n",
        "test_images=test_images.reshape(10000,28*28)\n",
        "test_images=test_images.astype('float32')/255\n",
        "\n",
        "\n",
        "print (train_labels[55511])\n",
        "train_labels_categorical=to_categorical (train_labels)\n",
        "test_labels_catgorical=to_categorical (test_labels)\n",
        "print (train_labels_categorical[55511])"
      ],
      "execution_count": 18,
      "outputs": [
        {
          "output_type": "stream",
          "name": "stdout",
          "text": [
            "4\n",
            "[0. 0. 0. 0. 1. 0. 0. 0. 0. 0.]\n"
          ]
        }
      ]
    },
    {
      "cell_type": "code",
      "metadata": {
        "colab": {
          "base_uri": "https://localhost:8080/"
        },
        "id": "yjTEOqUhjSt2",
        "outputId": "221b1ea3-1e3d-4cfb-c36e-8e2ad9037522"
      },
      "source": [
        "import time\n",
        "\n",
        "opt=tf.keras.optimizers.Adam(learning_rate=0.001)\n",
        "\n",
        "network.compile (optimizer=opt, loss='categorical_crossentropy', metrics=['accuracy', keras.metrics.Precision()])\n",
        "start_time = time.perf_counter()\n",
        "history = network.fit(train_images, train_labels_categorical, epochs=5, batch_size=128)\n",
        "elapsed_time = time.perf_counter()-start_time\n",
        "test_loss, test_acc, test_presc=network.evaluate (test_images, test_labels_catgorical)\n",
        "print('Runtime', elapsed_time)"
      ],
      "execution_count": 21,
      "outputs": [
        {
          "output_type": "stream",
          "name": "stdout",
          "text": [
            "Epoch 1/5\n",
            "469/469 [==============================] - 9s 18ms/step - loss: 0.2221 - accuracy: 0.9350 - precision: 0.9544\n",
            "Epoch 2/5\n",
            "469/469 [==============================] - 8s 17ms/step - loss: 0.0780 - accuracy: 0.9759 - precision: 0.9794\n",
            "Epoch 3/5\n",
            "469/469 [==============================] - 8s 17ms/step - loss: 0.0476 - accuracy: 0.9848 - precision: 0.9869\n",
            "Epoch 4/5\n",
            "469/469 [==============================] - 8s 17ms/step - loss: 0.0307 - accuracy: 0.9901 - precision: 0.9912\n",
            "Epoch 5/5\n",
            "469/469 [==============================] - 8s 17ms/step - loss: 0.0217 - accuracy: 0.9930 - precision: 0.9933\n",
            "313/313 [==============================] - 2s 5ms/step - loss: 0.0653 - accuracy: 0.9819 - precision: 0.9835\n",
            "Runtime 41.7117521560001\n"
          ]
        }
      ]
    },
    {
      "cell_type": "code",
      "metadata": {
        "id": "w74bifPFkulc",
        "colab": {
          "base_uri": "https://localhost:8080/",
          "height": 314
        },
        "outputId": "2cf384ed-c7fe-4bfe-993e-decbe60b67eb"
      },
      "source": [
        "plt.plot(history.history['loss'])\n",
        "plt.ylabel('Training Loss')\n",
        "plt.xlabel('Epoch')\n",
        "#plt.legend(['Validation', 'Test'])\n",
        "#plt.xticks([0,1,2], [\"1\",\"2\",\"3\"])\n",
        "#plt.axis([0,2,0.85,1])\n",
        "plt.show()\n",
        "print('Test Loss', test_loss)\n",
        "print('Accuracy', test_acc)"
      ],
      "execution_count": 22,
      "outputs": [
        {
          "output_type": "display_data",
          "data": {
            "text/plain": [
              "<Figure size 432x288 with 1 Axes>"
            ],
            "image/png": "[encoded data removed]"
          },
          "metadata": {
            "needs_background": "light"
          }
        },
        {
          "output_type": "stream",
          "name": "stdout",
          "text": [
            "Test Loss 0.06531627476215363\n",
            "Accuracy 0.9818999767303467\n"
          ]
        }
      ]
    },
    {
      "cell_type": "code",
      "metadata": {
        "id": "pUdXeGiaZl50",
        "colab": {
          "base_uri": "https://localhost:8080/"
        },
        "outputId": "af662607-0bc5-438e-ca00-0c12b047ab0a"
      },
      "source": [
        "#cross-validation\n",
        "\n",
        "import sklearn\n",
        "from sklearn.model_selection import StratifiedKFold\n",
        "from sklearn.model_selection import RepeatedStratifiedKFold\n",
        "\n",
        "opt=tf.keras.optimizers.Adam(learning_rate=0.5)\n",
        "myskfold=StratifiedKFold (n_splits=3, shuffle=True, random_state=7)\n",
        "\n",
        "Validation_accuracyList=[]\n",
        "Validation_precisionList=[]\n",
        "Validation_lossList=[]\n",
        "test_accuracyList=[]\n",
        "test_precisionList=[]\n",
        "test_lossList=[]\n",
        "\n",
        "for trainF, validationF in myskfold.split(train_images, train_labels):\n",
        "  network.compile (optimizer=opt, loss='categorical_crossentropy', metrics=['accuracy', keras.metrics.Precision()])\n",
        "  network.fit(train_images[trainF], train_labels_categorical[trainF], epochs=2, batch_size=128)\n",
        "  Validation_loss, Validation_acc, Validation_presc=network.evaluate (train_images[validationF], train_labels_categorical[validationF])\n",
        "  test_loss, test_acc, test_presc=network.evaluate (test_images, test_labels_catgorical)\n",
        "  Validation_accuracyList.append (Validation_acc)\n",
        "  Validation_lossList.append(Validation_loss)\n",
        "  Validation_precisionList.append(Validation_presc)\n",
        "  test_accuracyList.append (test_acc)\n",
        "  test_lossList.append(test_loss)\n",
        "  test_precisionList.append(test_presc)\n",
        "\n",
        "\n"
      ],
      "execution_count": 25,
      "outputs": [
        {
          "output_type": "stream",
          "name": "stdout",
          "text": [
            "Epoch 1/2\n",
            "313/313 [==============================] - 9s 24ms/step - loss: 1694.4248 - accuracy: 0.1033 - precision_2: 0.1997\n",
            "Epoch 2/2\n",
            "313/313 [==============================] - 5s 17ms/step - loss: 2.3230 - accuracy: 0.1032 - precision_2: 0.0000e+00\n",
            "625/625 [==============================] - 3s 4ms/step - loss: 2.3784 - accuracy: 0.0988 - precision_2: 0.0000e+00\n",
            "313/313 [==============================] - 2s 5ms/step - loss: 2.3269 - accuracy: 0.0980 - precision_2: 0.0000e+00\n",
            "Epoch 1/2\n",
            "313/313 [==============================] - 6s 17ms/step - loss: 2.6587 - accuracy: 0.1019 - precision_3: 0.0000e+00\n",
            "Epoch 2/2\n",
            "313/313 [==============================] - 5s 17ms/step - loss: 2.3252 - accuracy: 0.1029 - precision_3: 0.0000e+00\n",
            "625/625 [==============================] - 3s 5ms/step - loss: 2.3208 - accuracy: 0.1045 - precision_3: 0.0000e+00\n",
            "313/313 [==============================] - 2s 5ms/step - loss: 2.3223 - accuracy: 0.1028 - precision_3: 0.0000e+00\n",
            "Epoch 1/2\n",
            "313/313 [==============================] - 6s 18ms/step - loss: 2.3246 - accuracy: 0.1018 - precision_4: 0.0000e+00\n",
            "Epoch 2/2\n",
            "313/313 [==============================] - 6s 19ms/step - loss: 2.3295 - accuracy: 0.1029 - precision_4: 0.0000e+00\n",
            "625/625 [==============================] - 3s 5ms/step - loss: 2.3204 - accuracy: 0.1124 - precision_4: 0.0000e+00\n",
            "313/313 [==============================] - 2s 5ms/step - loss: 2.3197 - accuracy: 0.1135 - precision_4: 0.0000e+00\n"
          ]
        }
      ]
    },
    {
      "cell_type": "code",
      "metadata": {
        "id": "zQpl89GMLF71",
        "colab": {
          "base_uri": "https://localhost:8080/",
          "height": 283
        },
        "outputId": "d7e8d907-9286-49fc-ac99-eecd6474aed1"
      },
      "source": [
        "plt.plot(Validation_accuracyList)\n",
        "plt.plot(test_accuracyList)\n",
        "plt.ylabel('Accuracy')\n",
        "plt.xlabel('Trial')\n",
        "plt.legend(['Validation', 'Test'])\n",
        "#plt.xticks([0,1,2], [\"1\",\"2\",\"3\"])\n",
        "plt.axis([0,2,0.85,1])\n",
        "plt.show()"
      ],
      "execution_count": 26,
      "outputs": [
        {
          "output_type": "display_data",
          "data": {
            "text/plain": [
              "<Figure size 432x288 with 1 Axes>"
            ],
            "image/png": "[encoded data removed]"
          },
          "metadata": {
            "needs_background": "light"
          }
        }
      ]
    },
    {
      "cell_type": "code",
      "metadata": {
        "id": "gnSqR3uFMw9d",
        "colab": {
          "base_uri": "https://localhost:8080/",
          "height": 279
        },
        "outputId": "55241135-8403-4274-9c5c-2bd8bb58157f"
      },
      "source": [
        "plt.plot(Validation_precisionList)\n",
        "plt.plot(test_precisionList)\n",
        "plt.ylabel('Precision')\n",
        "plt.xlabel('Trial')\n",
        "plt.legend(['Precision', 'Test'])\n",
        "plt.xticks=([0,1,2,3])\n",
        "plt.axis=[0,10,0.9,1]\n",
        "plt.show()"
      ],
      "execution_count": 27,
      "outputs": [
        {
          "output_type": "display_data",
          "data": {
            "text/plain": [
              "<Figure size 432x288 with 1 Axes>"
            ],
            "image/png": "[encoded data removed]"
          },
          "metadata": {
            "needs_background": "light"
          }
        }
      ]
    },
    {
      "cell_type": "code",
      "metadata": {
        "id": "eUB-VSZ-M3ej",
        "colab": {
          "base_uri": "https://localhost:8080/",
          "height": 279
        },
        "outputId": "9dc06b54-806d-4151-ccd5-339047a2353f"
      },
      "source": [
        "plt.plot(Validation_lossList)\n",
        "plt.plot(test_lossList)\n",
        "plt.ylabel('Accuracy')\n",
        "plt.xlabel('Trial')\n",
        "plt.legend(['Validation', 'Test'])\n",
        "plt.xticks=([0,1,2,3])\n",
        "plt.axis=[0,10,0.9,1]\n",
        "plt.show()"
      ],
      "execution_count": 28,
      "outputs": [
        {
          "output_type": "display_data",
          "data": {
            "text/plain": [
              "<Figure size 432x288 with 1 Axes>"
            ],
            "image/png": "[encoded data removed]"
          },
          "metadata": {
            "needs_background": "light"
          }
        }
      ]
    }
  ]
}